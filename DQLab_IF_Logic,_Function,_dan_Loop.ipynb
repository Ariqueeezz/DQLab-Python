{
  "nbformat": 4,
  "nbformat_minor": 0,
  "metadata": {
    "colab": {
      "provenance": []
    },
    "kernelspec": {
      "name": "python3",
      "display_name": "Python 3"
    },
    "language_info": {
      "name": "python"
    }
  },
  "cells": [
    {
      "cell_type": "markdown",
      "source": [
        "## Kondisi IF"
      ],
      "metadata": {
        "id": "Wol7kLjIc1Lu"
      }
    },
    {
      "cell_type": "code",
      "execution_count": null,
      "metadata": {
        "id": "_1X9xQ9ocUQQ"
      },
      "outputs": [],
      "source": [
        "# Ganti nilai kebenaran dari varible lapar\n",
        "# Karena kondisi bernilai False maka \"Makan\" tidak ditampilkan\n",
        "\n",
        "lapar = False\n",
        "\n",
        "if lapar == True:\n",
        "  print(\"Makan\")"
      ]
    },
    {
      "cell_type": "markdown",
      "source": [
        "## Kondisi IF ELSE"
      ],
      "metadata": {
        "id": "N1IXlZkcis6r"
      }
    },
    {
      "cell_type": "code",
      "source": [
        "# Jika lapar bernilai True maka 'Makan' akan ditampilkan\n",
        "# Jika kondisi lapar tidak terpenuhi maka 'Terus belajar' akan ditampilkan\n",
        "\n",
        "lapar = False\n",
        "\n",
        "if lapar == True:\n",
        "  print(\"Makan\")\n",
        "else:\n",
        "  print(\"Terus belajar\")"
      ],
      "metadata": {
        "colab": {
          "base_uri": "https://localhost:8080/"
        },
        "id": "ENtnUT4acY_B",
        "outputId": "f3dc2a49-64f6-450c-ad90-78e08fe1d030"
      },
      "execution_count": null,
      "outputs": [
        {
          "output_type": "stream",
          "name": "stdout",
          "text": [
            "Terus belajar\n"
          ]
        }
      ]
    },
    {
      "cell_type": "markdown",
      "source": [
        "## Kondisi IF ELIF ELSE"
      ],
      "metadata": {
        "id": "AWpWHOVHix3m"
      }
    },
    {
      "cell_type": "code",
      "source": [
        "# akan menampilkan action berdasarkan kondisi\n",
        "# jika tidak ada kondisi yang didaftarkan maka 'Terus belajar' akan ditampilkan\n",
        "kondisi = 'capek'\n",
        "\n",
        "if kondisi == 'lapar' :\n",
        "  print(\"Makan\")\n",
        "elif kondisi == 'capek' :\n",
        "  print(\"Istirahat\")\n",
        "elif kondisi == 'ngantuk' :\n",
        "  print(\"Tidur\")\n",
        "else :\n",
        "  print(\"Terus belajar\")"
      ],
      "metadata": {
        "colab": {
          "base_uri": "https://localhost:8080/"
        },
        "id": "MyN3MIpegFZ-",
        "outputId": "7cd13193-08e5-40d0-e2f4-448ba144b881"
      },
      "execution_count": null,
      "outputs": [
        {
          "output_type": "stream",
          "name": "stdout",
          "text": [
            "Istirahat\n"
          ]
        }
      ]
    },
    {
      "cell_type": "markdown",
      "source": [
        "## Fungsi"
      ],
      "metadata": {
        "id": "9rzPbPwhqJjn"
      }
    },
    {
      "cell_type": "code",
      "source": [
        "def tulis_hello():\n",
        "  print('Hello')"
      ],
      "metadata": {
        "id": "T0Hz5eG7jQrz"
      },
      "execution_count": null,
      "outputs": []
    },
    {
      "cell_type": "code",
      "source": [
        "tulis_hello()"
      ],
      "metadata": {
        "colab": {
          "base_uri": "https://localhost:8080/"
        },
        "id": "x8V6-PWbqOhT",
        "outputId": "d3492a60-8569-49f9-f19f-8a7a0b24b5f0"
      },
      "execution_count": null,
      "outputs": [
        {
          "output_type": "stream",
          "name": "stdout",
          "text": [
            "Hello\n"
          ]
        }
      ]
    },
    {
      "cell_type": "code",
      "source": [
        "# membuat fungsi untuk menghitung luas persegi (panjang x lebar)\n",
        "# nilai hasil perhitungan dikembalikan sebagai nilai dari fungsi\n",
        "def luas_persegi(panjang, lebar):\n",
        "  return panjang*lebar"
      ],
      "metadata": {
        "id": "0KQxWpCYqU_2"
      },
      "execution_count": null,
      "outputs": []
    },
    {
      "cell_type": "code",
      "source": [
        "# L akan memiliki nilai karena fungsi luas_persegi mengembalikan nilai\n",
        "L = luas_persegi(10,50)\n",
        "print(L)"
      ],
      "metadata": {
        "colab": {
          "base_uri": "https://localhost:8080/"
        },
        "id": "JiDAVpmrq9i9",
        "outputId": "66e3910a-18fb-4df9-861f-a862f8319416"
      },
      "execution_count": null,
      "outputs": [
        {
          "output_type": "stream",
          "name": "stdout",
          "text": [
            "500\n"
          ]
        }
      ]
    },
    {
      "cell_type": "code",
      "source": [
        "# fungsi ini hanya menampilkan hasil perkalian panjang dengan lebar\n",
        "# fungsi ini tidak mengembalikan nilai\n",
        "def luas_persegi(panjang, lebar):\n",
        "  print(panjang*lebar)"
      ],
      "metadata": {
        "id": "veqSF0heP-1S"
      },
      "execution_count": null,
      "outputs": []
    },
    {
      "cell_type": "code",
      "source": [
        "luas_persegi(3,4)"
      ],
      "metadata": {
        "colab": {
          "base_uri": "https://localhost:8080/"
        },
        "id": "hx6xfONFQDea",
        "outputId": "b77d0806-156d-467d-cd5a-fa181d732820"
      },
      "execution_count": null,
      "outputs": [
        {
          "output_type": "stream",
          "name": "stdout",
          "text": [
            "12\n"
          ]
        }
      ]
    },
    {
      "cell_type": "code",
      "source": [
        "L = luas_persegi(3,4)"
      ],
      "metadata": {
        "colab": {
          "base_uri": "https://localhost:8080/"
        },
        "id": "aInzO6sDQGCd",
        "outputId": "db63bbd5-1855-42d3-d7a9-77d6fe830b24"
      },
      "execution_count": null,
      "outputs": [
        {
          "output_type": "stream",
          "name": "stdout",
          "text": [
            "12\n",
            "None\n"
          ]
        }
      ]
    },
    {
      "cell_type": "code",
      "source": [
        "# L bernilai None atau tidak memiliki nilai karena L diperoleh dari fungsi yang tidak mengembalikan nilai\n",
        "print(L)"
      ],
      "metadata": {
        "colab": {
          "base_uri": "https://localhost:8080/"
        },
        "id": "Oeb_B-kpQNsC",
        "outputId": "6203fee2-8c2c-4816-9546-3f41c0cd347b"
      },
      "execution_count": null,
      "outputs": [
        {
          "output_type": "stream",
          "name": "stdout",
          "text": [
            "None\n"
          ]
        }
      ]
    },
    {
      "cell_type": "markdown",
      "source": [
        "## Loop"
      ],
      "metadata": {
        "id": "nyOVq2eByGB8"
      }
    },
    {
      "cell_type": "markdown",
      "source": [
        "### For loop"
      ],
      "metadata": {
        "id": "edsY4jlpyIm8"
      }
    },
    {
      "cell_type": "code",
      "source": [
        "# iterasi menggunakan list\n",
        "for buah in ['apel','mangga','anggur']:\n",
        "  print(buah)"
      ],
      "metadata": {
        "colab": {
          "base_uri": "https://localhost:8080/"
        },
        "id": "GcuQOz_MrCRd",
        "outputId": "aea2fb66-8d17-4b85-f183-d1a2026da587"
      },
      "execution_count": null,
      "outputs": [
        {
          "output_type": "stream",
          "name": "stdout",
          "text": [
            "apel\n",
            "mangga\n",
            "anggur\n"
          ]
        }
      ]
    },
    {
      "cell_type": "code",
      "source": [
        "# fungsi range(10) digunakan untuk membuat iterator sepanjang 10\n",
        "list(range(10))"
      ],
      "metadata": {
        "colab": {
          "base_uri": "https://localhost:8080/"
        },
        "id": "lWf46eTUyP7Q",
        "outputId": "69ef9437-e83a-4800-e65f-dfd8bc484788"
      },
      "execution_count": null,
      "outputs": [
        {
          "output_type": "execute_result",
          "data": {
            "text/plain": [
              "[0, 1, 2, 3, 4, 5, 6, 7, 8, 9]"
            ]
          },
          "metadata": {},
          "execution_count": 9
        }
      ]
    },
    {
      "cell_type": "code",
      "source": [
        "for i in range(10):\n",
        "  print(i)"
      ],
      "metadata": {
        "colab": {
          "base_uri": "https://localhost:8080/"
        },
        "id": "-OcQRKC2PqKa",
        "outputId": "1dc9374e-2376-4b07-80ad-22c0b9f56869"
      },
      "execution_count": null,
      "outputs": [
        {
          "output_type": "stream",
          "name": "stdout",
          "text": [
            "0\n",
            "1\n",
            "2\n",
            "3\n",
            "4\n",
            "5\n",
            "6\n",
            "7\n",
            "8\n",
            "9\n"
          ]
        }
      ]
    },
    {
      "cell_type": "markdown",
      "source": [
        "### While loop"
      ],
      "metadata": {
        "id": "1fE8u0DxyYyF"
      }
    },
    {
      "cell_type": "code",
      "source": [
        "# menghitung mundur x selama x lebih besar dari 0\n",
        "# sama artinya dengan menghitung mundur x sampai x bernilai 0\n",
        "x = 100\n",
        "\n",
        "while x > 0:\n",
        "  print(x)\n",
        "  x = x - 1"
      ],
      "metadata": {
        "colab": {
          "base_uri": "https://localhost:8080/"
        },
        "id": "nYpg_jeGySF_",
        "outputId": "9370e8fc-5240-444c-ef74-3dfde0c10025"
      },
      "execution_count": null,
      "outputs": [
        {
          "output_type": "stream",
          "name": "stdout",
          "text": [
            "100\n",
            "99\n",
            "98\n",
            "97\n",
            "96\n",
            "95\n",
            "94\n",
            "93\n",
            "92\n",
            "91\n",
            "90\n",
            "89\n",
            "88\n",
            "87\n",
            "86\n",
            "85\n",
            "84\n",
            "83\n",
            "82\n",
            "81\n",
            "80\n",
            "79\n",
            "78\n",
            "77\n",
            "76\n",
            "75\n",
            "74\n",
            "73\n",
            "72\n",
            "71\n",
            "70\n",
            "69\n",
            "68\n",
            "67\n",
            "66\n",
            "65\n",
            "64\n",
            "63\n",
            "62\n",
            "61\n",
            "60\n",
            "59\n",
            "58\n",
            "57\n",
            "56\n",
            "55\n",
            "54\n",
            "53\n",
            "52\n",
            "51\n",
            "50\n",
            "49\n",
            "48\n",
            "47\n",
            "46\n",
            "45\n",
            "44\n",
            "43\n",
            "42\n",
            "41\n",
            "40\n",
            "39\n",
            "38\n",
            "37\n",
            "36\n",
            "35\n",
            "34\n",
            "33\n",
            "32\n",
            "31\n",
            "30\n",
            "29\n",
            "28\n",
            "27\n",
            "26\n",
            "25\n",
            "24\n",
            "23\n",
            "22\n",
            "21\n",
            "20\n",
            "19\n",
            "18\n",
            "17\n",
            "16\n",
            "15\n",
            "14\n",
            "13\n",
            "12\n",
            "11\n",
            "10\n",
            "9\n",
            "8\n",
            "7\n",
            "6\n",
            "5\n",
            "4\n",
            "3\n",
            "2\n",
            "1\n"
          ]
        }
      ]
    },
    {
      "cell_type": "code",
      "source": [
        "# potongan kode yang akan menampilkan 'jalan terus' selama tidak ada perintah 'berhenti'\n",
        "perintah = 'jalan'\n",
        "\n",
        "while perintah != 'berhenti':\n",
        "  print('jalan terus')\n",
        "  perintah = input()"
      ],
      "metadata": {
        "id": "7uostGD4zsTE",
        "colab": {
          "base_uri": "https://localhost:8080/"
        },
        "outputId": "4fa3a1ec-8e6f-4f69-8562-8f05db1935ff"
      },
      "execution_count": null,
      "outputs": [
        {
          "name": "stdout",
          "output_type": "stream",
          "text": [
            "jalan terus\n",
            "apapun\n",
            "jalan terus\n",
            "berhenti\n"
          ]
        }
      ]
    },
    {
      "cell_type": "markdown",
      "source": [
        "## break, continue, dan pass"
      ],
      "metadata": {
        "id": "Py8DuCjkQ8qN"
      }
    },
    {
      "cell_type": "code",
      "source": [
        "# break digunakan untuk keluar dari looping\n",
        "# contoh: looping akan berhenti saat i bernilai 6\n",
        "for i in range(10):\n",
        "  print(i)\n",
        "  if i == 6:\n",
        "    break"
      ],
      "metadata": {
        "colab": {
          "base_uri": "https://localhost:8080/"
        },
        "id": "F3o3RRAjQp7N",
        "outputId": "743ca3ea-1dff-48ec-f59d-73d2da48a12c"
      },
      "execution_count": null,
      "outputs": [
        {
          "output_type": "stream",
          "name": "stdout",
          "text": [
            "0\n",
            "1\n",
            "2\n",
            "3\n",
            "4\n",
            "5\n",
            "6\n"
          ]
        }
      ]
    },
    {
      "cell_type": "code",
      "source": [
        "# continue digunakan untuk melewati iterasi yang sedang berlangsung, loncat ke iterasi selanjutnya\n",
        "# contoh: saat i bernilai 7, nilai i tidak ditulis tapi langsung loncat ke iterasi selanjutnya\n",
        "for i in range(10):\n",
        "  if i == 7:\n",
        "    continue\n",
        "  print(i)"
      ],
      "metadata": {
        "colab": {
          "base_uri": "https://localhost:8080/"
        },
        "id": "TjBCcQS6RUZe",
        "outputId": "bf12fb82-ca29-4bf1-9e97-4bfa4b2bebeb"
      },
      "execution_count": null,
      "outputs": [
        {
          "output_type": "stream",
          "name": "stdout",
          "text": [
            "0\n",
            "1\n",
            "2\n",
            "3\n",
            "4\n",
            "5\n",
            "6\n",
            "8\n",
            "9\n"
          ]
        }
      ]
    },
    {
      "cell_type": "code",
      "source": [
        "# pass digunakan jika kita tidak memiliki apapun untuk dimasukkan ke dalam looping\n",
        "for i in range(10):\n",
        "  pass"
      ],
      "metadata": {
        "id": "2ebQ-_stRcMp"
      },
      "execution_count": null,
      "outputs": []
    },
    {
      "cell_type": "markdown",
      "source": [
        "# Latihan"
      ],
      "metadata": {
        "id": "fLwLJTSaB0Fp"
      }
    },
    {
      "cell_type": "markdown",
      "source": [
        "## Soal 1"
      ],
      "metadata": {
        "id": "kl8RlaGvVZpf"
      }
    },
    {
      "cell_type": "code",
      "source": [
        "# jika genap + 1, jika ganjil + 2\n",
        "bilangan = [2, 4, 3, 6, 7, 9]\n",
        "\n",
        "for index, angka in enumerate(bilangan):\n",
        "  if angka % 2 == 0:\n",
        "    bilangan[index] = angka + 1\n",
        "  else:\n",
        "    bilangan[index] = angka + 2\n",
        "\n",
        "print(bilangan)"
      ],
      "metadata": {
        "id": "vIoiiwwaR1Kk",
        "colab": {
          "base_uri": "https://localhost:8080/"
        },
        "outputId": "9665ac38-7a42-436f-dcbd-d344a800528d"
      },
      "execution_count": null,
      "outputs": [
        {
          "output_type": "stream",
          "name": "stdout",
          "text": [
            "[3, 5, 5, 7, 9, 11]\n"
          ]
        }
      ]
    },
    {
      "cell_type": "code",
      "source": [
        "bilangan = [2, 4, 3, 6, 7, 9]\n",
        "i = 0\n",
        "for angka in bilangan:\n",
        "  if angka % 2 == 0:\n",
        "    bilangan[i] = angka + 1\n",
        "  else:\n",
        "    bilangan[i] = angka + 2\n",
        "  i += 1\n",
        "\n",
        "print(bilangan)"
      ],
      "metadata": {
        "colab": {
          "base_uri": "https://localhost:8080/"
        },
        "id": "lFG0F76GTeuo",
        "outputId": "dcf93436-fd83-4cc0-d1d8-7c886305db85"
      },
      "execution_count": null,
      "outputs": [
        {
          "output_type": "stream",
          "name": "stdout",
          "text": [
            "[3, 5, 5, 7, 9, 11]\n"
          ]
        }
      ]
    },
    {
      "cell_type": "code",
      "source": [
        "bilangan = [2, 4, 3, 6, 7, 9]\n",
        "bilangan_baru = []\n",
        "\n",
        "for angka in bilangan:\n",
        "  if angka % 2 == 0:\n",
        "    bilangan_baru.append(angka+1)\n",
        "  else:\n",
        "    bilangan_baru.append(angka+2)\n",
        "\n",
        "print(bilangan_baru)"
      ],
      "metadata": {
        "colab": {
          "base_uri": "https://localhost:8080/"
        },
        "id": "_5jpsaluUfgb",
        "outputId": "94283639-4c0a-4936-c80e-775b638cb47d"
      },
      "execution_count": null,
      "outputs": [
        {
          "output_type": "stream",
          "name": "stdout",
          "text": [
            "[3, 5, 5, 7, 9, 11]\n"
          ]
        }
      ]
    },
    {
      "cell_type": "code",
      "source": [
        "bilangan = [2, 4, 3, 6, 7, 9]\n",
        "bilangan_baru = [(angka+1) if angka % 2 == 0 else (angka+2) for angka in bilangan]\n",
        "print(bilangan_baru)"
      ],
      "metadata": {
        "colab": {
          "base_uri": "https://localhost:8080/"
        },
        "id": "i7RkA4NiU-O6",
        "outputId": "640692f2-b13d-4d46-b47c-05c0e5a28d7a"
      },
      "execution_count": null,
      "outputs": [
        {
          "output_type": "stream",
          "name": "stdout",
          "text": [
            "[3, 5, 5, 7, 9, 11]\n"
          ]
        }
      ]
    },
    {
      "cell_type": "markdown",
      "source": [
        "<br>\n",
        "<a href=\"https://www.linkedin.com/in/raihanarique/\"><img src=\"https://img.shields.io/badge/-© 2025 Raihan Ariq Muzakki-417DAC?style=for-the-badge&logoColor=white\"/></a>"
      ],
      "metadata": {
        "id": "aJUPRp32kN2b"
      }
    }
  ]
}