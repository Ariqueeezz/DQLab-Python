{
  "nbformat": 4,
  "nbformat_minor": 0,
  "metadata": {
    "colab": {
      "provenance": []
    },
    "kernelspec": {
      "name": "python3",
      "display_name": "Python 3"
    },
    "language_info": {
      "name": "python"
    }
  },
  "cells": [
    {
      "cell_type": "markdown",
      "source": [
        "## Numerik : Integer & Float"
      ],
      "metadata": {
        "id": "owoJn72dGP6v"
      }
    },
    {
      "cell_type": "code",
      "execution_count": null,
      "metadata": {
        "id": "Mh_MEJXjGZQn"
      },
      "outputs": [],
      "source": [
        "# mengisi nilai 5 pada variable x\n",
        "\n",
        "x = 5"
      ]
    },
    {
      "cell_type": "code",
      "source": [
        "# tipe data dari x adalah integer\n",
        "type(x)"
      ],
      "metadata": {
        "id": "pdsceARNGndX",
        "colab": {
          "base_uri": "https://localhost:8080/"
        },
        "outputId": "5dcfb3ea-6fc5-4fc6-f9f0-f2eb3b18d5fe"
      },
      "execution_count": null,
      "outputs": [
        {
          "output_type": "execute_result",
          "data": {
            "text/plain": [
              "int"
            ]
          },
          "metadata": {},
          "execution_count": 14
        }
      ]
    },
    {
      "cell_type": "code",
      "source": [
        "y = 3.14"
      ],
      "metadata": {
        "id": "oCqJji34GZLx"
      },
      "execution_count": null,
      "outputs": []
    },
    {
      "cell_type": "code",
      "source": [
        "# tipe data dari y adalah float\n",
        "type(y)"
      ],
      "metadata": {
        "colab": {
          "base_uri": "https://localhost:8080/"
        },
        "id": "F-jdt-V8GcAh",
        "outputId": "d75f3b78-dac1-449a-9229-c0705fa842de"
      },
      "execution_count": null,
      "outputs": [
        {
          "output_type": "execute_result",
          "data": {
            "text/plain": [
              "float"
            ]
          },
          "metadata": {},
          "execution_count": 15
        }
      ]
    },
    {
      "cell_type": "code",
      "source": [
        "# penjumlahan\n",
        "x + y"
      ],
      "metadata": {
        "colab": {
          "base_uri": "https://localhost:8080/"
        },
        "id": "NVg4-6eFGc6j",
        "outputId": "8736dd49-e0dd-4cd2-f176-3faa95530207"
      },
      "execution_count": null,
      "outputs": [
        {
          "output_type": "execute_result",
          "data": {
            "text/plain": [
              "8.14"
            ]
          },
          "metadata": {},
          "execution_count": 16
        }
      ]
    },
    {
      "cell_type": "code",
      "source": [
        "# pengurangan\n",
        "x - y"
      ],
      "metadata": {
        "colab": {
          "base_uri": "https://localhost:8080/"
        },
        "id": "G4hHBedpGh7f",
        "outputId": "6d3fd359-a760-4d03-99d1-4f217917a150"
      },
      "execution_count": null,
      "outputs": [
        {
          "output_type": "execute_result",
          "data": {
            "text/plain": [
              "1.8599999999999999"
            ]
          },
          "metadata": {},
          "execution_count": 17
        }
      ]
    },
    {
      "cell_type": "code",
      "source": [
        "# perkalian\n",
        "x * y"
      ],
      "metadata": {
        "colab": {
          "base_uri": "https://localhost:8080/"
        },
        "id": "O_Y2SezVGkkt",
        "outputId": "79712419-57ba-47ec-eb01-b9f1a4ce554b"
      },
      "execution_count": null,
      "outputs": [
        {
          "output_type": "execute_result",
          "data": {
            "text/plain": [
              "15.700000000000001"
            ]
          },
          "metadata": {},
          "execution_count": 18
        }
      ]
    },
    {
      "cell_type": "code",
      "source": [
        "a = 10\n",
        "b = 3"
      ],
      "metadata": {
        "id": "JfsOeYimGl4a"
      },
      "execution_count": null,
      "outputs": []
    },
    {
      "cell_type": "code",
      "source": [
        "# pembagian\n",
        "a / b"
      ],
      "metadata": {
        "colab": {
          "base_uri": "https://localhost:8080/"
        },
        "id": "0QafaK3mGw-M",
        "outputId": "09f7832b-1690-41a8-a1c2-050b1a963a3a"
      },
      "execution_count": null,
      "outputs": [
        {
          "output_type": "execute_result",
          "data": {
            "text/plain": [
              "3.3333333333333335"
            ]
          },
          "metadata": {},
          "execution_count": 19
        }
      ]
    },
    {
      "cell_type": "code",
      "source": [
        "# pembagian disertai pembulatan ke bawah\n",
        "a // b"
      ],
      "metadata": {
        "colab": {
          "base_uri": "https://localhost:8080/"
        },
        "id": "SqByomU2Gx2_",
        "outputId": "dae42d09-fee7-4916-8e3c-214dfd9a2b5f"
      },
      "execution_count": null,
      "outputs": [
        {
          "output_type": "execute_result",
          "data": {
            "text/plain": [
              "3"
            ]
          },
          "metadata": {},
          "execution_count": 20
        }
      ]
    },
    {
      "cell_type": "code",
      "source": [
        "# modulo, sisa hasil bagi\n",
        "a % b"
      ],
      "metadata": {
        "colab": {
          "base_uri": "https://localhost:8080/"
        },
        "id": "lkGGdugeGy1o",
        "outputId": "62526d43-2284-4f63-931c-819046332236"
      },
      "execution_count": null,
      "outputs": [
        {
          "output_type": "execute_result",
          "data": {
            "text/plain": [
              "1"
            ]
          },
          "metadata": {},
          "execution_count": 21
        }
      ]
    },
    {
      "cell_type": "code",
      "source": [
        "# negasi\n",
        "-a"
      ],
      "metadata": {
        "colab": {
          "base_uri": "https://localhost:8080/"
        },
        "id": "s7TU0DCkG0qk",
        "outputId": "31033a92-aa82-4f48-ded8-c157b63699dd"
      },
      "execution_count": null,
      "outputs": [
        {
          "output_type": "execute_result",
          "data": {
            "text/plain": [
              "-10"
            ]
          },
          "metadata": {},
          "execution_count": 22
        }
      ]
    },
    {
      "cell_type": "code",
      "source": [
        "# perpangkatan\n",
        "a ** b"
      ],
      "metadata": {
        "colab": {
          "base_uri": "https://localhost:8080/"
        },
        "id": "kmNynqbbG2UW",
        "outputId": "6402af8e-7056-4151-fbab-dff982ce7989"
      },
      "execution_count": null,
      "outputs": [
        {
          "output_type": "execute_result",
          "data": {
            "text/plain": [
              "1000"
            ]
          },
          "metadata": {},
          "execution_count": 23
        }
      ]
    },
    {
      "cell_type": "markdown",
      "source": [
        "## Boolean"
      ],
      "metadata": {
        "id": "lI_d6EQWHQN-"
      }
    },
    {
      "cell_type": "code",
      "source": [
        "# cara penulisan nilai True yang benar\n",
        "True"
      ],
      "metadata": {
        "colab": {
          "base_uri": "https://localhost:8080/"
        },
        "id": "F5I2uZtCG4my",
        "outputId": "a66db4a5-db39-4493-a641-ec3c397b63b1"
      },
      "execution_count": null,
      "outputs": [
        {
          "output_type": "execute_result",
          "data": {
            "text/plain": [
              "True"
            ]
          },
          "metadata": {},
          "execution_count": 24
        }
      ]
    },
    {
      "cell_type": "code",
      "source": [
        "# cara penulisan nilai False yang benar\n",
        "False"
      ],
      "metadata": {
        "colab": {
          "base_uri": "https://localhost:8080/"
        },
        "id": "fGqLEQWgHUV3",
        "outputId": "12efec74-4d89-49dd-fee4-1f2b38fbdd96"
      },
      "execution_count": null,
      "outputs": [
        {
          "output_type": "execute_result",
          "data": {
            "text/plain": [
              "False"
            ]
          },
          "metadata": {},
          "execution_count": 25
        }
      ]
    },
    {
      "cell_type": "code",
      "source": [
        "# penulisan true yang salah, colab akan menganggap 'true' sebagai nama variabel\n",
        "true"
      ],
      "metadata": {
        "colab": {
          "base_uri": "https://localhost:8080/",
          "height": 166
        },
        "id": "qOWemTWVHVCv",
        "outputId": "1ae47618-c46a-4b42-830b-f4fb0176ca24"
      },
      "execution_count": null,
      "outputs": [
        {
          "output_type": "error",
          "ename": "NameError",
          "evalue": "ignored",
          "traceback": [
            "\u001b[0;31m---------------------------------------------------------------------------\u001b[0m",
            "\u001b[0;31mNameError\u001b[0m                                 Traceback (most recent call last)",
            "\u001b[0;32m<ipython-input-26-724ba28f4a9a>\u001b[0m in \u001b[0;36m<cell line: 1>\u001b[0;34m()\u001b[0m\n\u001b[0;32m----> 1\u001b[0;31m \u001b[0mtrue\u001b[0m\u001b[0;34m\u001b[0m\u001b[0;34m\u001b[0m\u001b[0m\n\u001b[0m",
            "\u001b[0;31mNameError\u001b[0m: name 'true' is not defined"
          ]
        }
      ]
    },
    {
      "cell_type": "code",
      "source": [
        "# kondisi yang dihubungkan dengan operator and akan bernilai benar jika semua kondisi benar\n",
        "True and True"
      ],
      "metadata": {
        "colab": {
          "base_uri": "https://localhost:8080/"
        },
        "id": "7s8uP4fRHVwK",
        "outputId": "cc975d32-c9db-484b-e8e0-567eecb6dd13"
      },
      "execution_count": null,
      "outputs": [
        {
          "output_type": "execute_result",
          "data": {
            "text/plain": [
              "True"
            ]
          },
          "metadata": {},
          "execution_count": 27
        }
      ]
    },
    {
      "cell_type": "code",
      "source": [
        "True and False"
      ],
      "metadata": {
        "colab": {
          "base_uri": "https://localhost:8080/"
        },
        "id": "ad0i85PVHoxX",
        "outputId": "06af20bb-0022-4352-ff4e-ae2537c8e89a"
      },
      "execution_count": null,
      "outputs": [
        {
          "output_type": "execute_result",
          "data": {
            "text/plain": [
              "False"
            ]
          },
          "metadata": {},
          "execution_count": 28
        }
      ]
    },
    {
      "cell_type": "code",
      "source": [
        "False and False"
      ],
      "metadata": {
        "colab": {
          "base_uri": "https://localhost:8080/"
        },
        "id": "ZhrMXk5NHqvm",
        "outputId": "778be438-5fcf-45b4-e2d2-7186dc640270"
      },
      "execution_count": null,
      "outputs": [
        {
          "output_type": "execute_result",
          "data": {
            "text/plain": [
              "False"
            ]
          },
          "metadata": {},
          "execution_count": 29
        }
      ]
    },
    {
      "cell_type": "code",
      "source": [
        "# contoh: seseorang akan mendapatkan pekerjaan jika rajin dan upgrade skill\n",
        "is_rajin = True\n",
        "is_upgrade_skill = True\n",
        "\n",
        "get_job = is_rajin and is_upgrade_skill\n",
        "\n",
        "get_job"
      ],
      "metadata": {
        "colab": {
          "base_uri": "https://localhost:8080/"
        },
        "id": "lM2b5IqbHuYh",
        "outputId": "ad008f32-362d-4469-d3d5-2e7d3fe120c5"
      },
      "execution_count": null,
      "outputs": [
        {
          "output_type": "execute_result",
          "data": {
            "text/plain": [
              "True"
            ]
          },
          "metadata": {},
          "execution_count": 31
        }
      ]
    },
    {
      "cell_type": "code",
      "source": [
        "# kondisi yang dihubungkan dengan operator or akan bernilai benar jika salah satu kondisi benar\n",
        "True or True"
      ],
      "metadata": {
        "colab": {
          "base_uri": "https://localhost:8080/"
        },
        "id": "fXFmyC35IFu8",
        "outputId": "c8601cdd-d19d-4e88-febe-8886b11973fa"
      },
      "execution_count": null,
      "outputs": [
        {
          "output_type": "execute_result",
          "data": {
            "text/plain": [
              "True"
            ]
          },
          "metadata": {},
          "execution_count": 32
        }
      ]
    },
    {
      "cell_type": "code",
      "source": [
        "True or False"
      ],
      "metadata": {
        "colab": {
          "base_uri": "https://localhost:8080/"
        },
        "id": "g3tVyz5YIOuv",
        "outputId": "24b64409-52c7-45bf-b5d2-25924661099e"
      },
      "execution_count": null,
      "outputs": [
        {
          "output_type": "execute_result",
          "data": {
            "text/plain": [
              "True"
            ]
          },
          "metadata": {},
          "execution_count": 33
        }
      ]
    },
    {
      "cell_type": "code",
      "source": [
        "False or False"
      ],
      "metadata": {
        "colab": {
          "base_uri": "https://localhost:8080/"
        },
        "id": "SOs9oXZ1IPxs",
        "outputId": "f29a301c-626b-4bd3-c8c2-0cd16b5f67c6"
      },
      "execution_count": null,
      "outputs": [
        {
          "output_type": "execute_result",
          "data": {
            "text/plain": [
              "False"
            ]
          },
          "metadata": {},
          "execution_count": 34
        }
      ]
    },
    {
      "cell_type": "code",
      "source": [
        "# seseorang dikatakan dari fakultas mipa jika dia dari jurusan matematika atau dari jurusan IPA\n",
        "is_matematika = True\n",
        "is_ipa = False\n",
        "\n",
        "is_mipa = is_matematika or is_ipa\n",
        "\n",
        "is_mipa"
      ],
      "metadata": {
        "colab": {
          "base_uri": "https://localhost:8080/"
        },
        "id": "liq7SYsiIRGj",
        "outputId": "9390f775-1870-489e-dd57-bda0772a3f8e"
      },
      "execution_count": null,
      "outputs": [
        {
          "output_type": "execute_result",
          "data": {
            "text/plain": [
              "True"
            ]
          },
          "metadata": {},
          "execution_count": 36
        }
      ]
    },
    {
      "cell_type": "code",
      "source": [
        "True + True"
      ],
      "metadata": {
        "colab": {
          "base_uri": "https://localhost:8080/"
        },
        "id": "FbWAT8KcLN1C",
        "outputId": "b2c5cbeb-8eb2-42c6-b7cf-71110d5af13e"
      },
      "execution_count": null,
      "outputs": [
        {
          "output_type": "execute_result",
          "data": {
            "text/plain": [
              "2"
            ]
          },
          "metadata": {},
          "execution_count": 47
        }
      ]
    },
    {
      "cell_type": "code",
      "source": [
        "False + False"
      ],
      "metadata": {
        "colab": {
          "base_uri": "https://localhost:8080/"
        },
        "id": "B75xGNHILP9f",
        "outputId": "f7ce1d42-3ec8-41d4-a558-a1d576114599"
      },
      "execution_count": null,
      "outputs": [
        {
          "output_type": "execute_result",
          "data": {
            "text/plain": [
              "0"
            ]
          },
          "metadata": {},
          "execution_count": 48
        }
      ]
    },
    {
      "cell_type": "code",
      "source": [
        "3 * True"
      ],
      "metadata": {
        "colab": {
          "base_uri": "https://localhost:8080/"
        },
        "id": "OAToqm3OLSd7",
        "outputId": "05a4e285-2cd1-486d-f1fd-1809b7c0c534"
      },
      "execution_count": null,
      "outputs": [
        {
          "output_type": "execute_result",
          "data": {
            "text/plain": [
              "3"
            ]
          },
          "metadata": {},
          "execution_count": 49
        }
      ]
    },
    {
      "cell_type": "code",
      "source": [
        "# Operasi numerik di atas berlaku untuk True dan False karena\n",
        "# True memiliki nilai 1 dan False memiliki nilai 0"
      ],
      "metadata": {
        "id": "HnExMETYLVDi"
      },
      "execution_count": null,
      "outputs": []
    },
    {
      "cell_type": "code",
      "source": [
        "int(True)"
      ],
      "metadata": {
        "colab": {
          "base_uri": "https://localhost:8080/"
        },
        "id": "aJir-PJVLeqW",
        "outputId": "429107eb-2a4c-43a1-de6e-0ee9e1360d92"
      },
      "execution_count": null,
      "outputs": [
        {
          "output_type": "execute_result",
          "data": {
            "text/plain": [
              "1"
            ]
          },
          "metadata": {},
          "execution_count": 51
        }
      ]
    },
    {
      "cell_type": "code",
      "source": [
        "int(False)"
      ],
      "metadata": {
        "colab": {
          "base_uri": "https://localhost:8080/"
        },
        "id": "_0F9wIOgLgdm",
        "outputId": "3bf1947a-39ff-4088-f60a-216e6b3f2e94"
      },
      "execution_count": null,
      "outputs": [
        {
          "output_type": "execute_result",
          "data": {
            "text/plain": [
              "0"
            ]
          },
          "metadata": {},
          "execution_count": 52
        }
      ]
    },
    {
      "cell_type": "markdown",
      "source": [
        "## Operasi perbandingan"
      ],
      "metadata": {
        "id": "_XdG6oXhKmcc"
      }
    },
    {
      "cell_type": "code",
      "source": [
        "# Operasi perbandingan melibatkan operator:\n",
        "# > lebih dari\n",
        "# < kurang dari\n",
        "# >= lebih dari atau sama dengan\n",
        "# <= kurang dari atau sama dengan\n",
        "# == sama dengan\n",
        "# != tidak sama dengan\n",
        "# operasi perbandingan akan menghasilkan True atau False"
      ],
      "metadata": {
        "id": "OsqBW_R3JanJ"
      },
      "execution_count": null,
      "outputs": []
    },
    {
      "cell_type": "code",
      "source": [
        "a = 3\n",
        "b = 4"
      ],
      "metadata": {
        "id": "sr15SQneKp3u"
      },
      "execution_count": null,
      "outputs": []
    },
    {
      "cell_type": "code",
      "source": [
        "a > b"
      ],
      "metadata": {
        "colab": {
          "base_uri": "https://localhost:8080/"
        },
        "id": "R1udm4zmK-yw",
        "outputId": "03d0d8cc-7c49-4488-dfe7-e1e7276d1767"
      },
      "execution_count": null,
      "outputs": [
        {
          "output_type": "execute_result",
          "data": {
            "text/plain": [
              "False"
            ]
          },
          "metadata": {},
          "execution_count": 41
        }
      ]
    },
    {
      "cell_type": "code",
      "source": [
        "a < b"
      ],
      "metadata": {
        "colab": {
          "base_uri": "https://localhost:8080/"
        },
        "id": "sIJozRMmK_5O",
        "outputId": "4fa5a4ea-b0ba-407c-9243-873243a9c475"
      },
      "execution_count": null,
      "outputs": [
        {
          "output_type": "execute_result",
          "data": {
            "text/plain": [
              "True"
            ]
          },
          "metadata": {},
          "execution_count": 42
        }
      ]
    },
    {
      "cell_type": "code",
      "source": [
        "a == 5"
      ],
      "metadata": {
        "colab": {
          "base_uri": "https://localhost:8080/"
        },
        "id": "iRD-OX9dLA9z",
        "outputId": "128b4d56-3ff2-4569-a51c-8f04a4a49ef6"
      },
      "execution_count": null,
      "outputs": [
        {
          "output_type": "execute_result",
          "data": {
            "text/plain": [
              "False"
            ]
          },
          "metadata": {},
          "execution_count": 43
        }
      ]
    },
    {
      "cell_type": "code",
      "source": [
        "a != b"
      ],
      "metadata": {
        "colab": {
          "base_uri": "https://localhost:8080/"
        },
        "id": "v2ValuEeLC8P",
        "outputId": "b9b90069-892a-43df-e2e8-357557fe2cc0"
      },
      "execution_count": null,
      "outputs": [
        {
          "output_type": "execute_result",
          "data": {
            "text/plain": [
              "True"
            ]
          },
          "metadata": {},
          "execution_count": 45
        }
      ]
    },
    {
      "cell_type": "markdown",
      "source": [
        "## String"
      ],
      "metadata": {
        "id": "Oqk7wPjCLxY3"
      }
    },
    {
      "cell_type": "code",
      "source": [
        "# nilai string diapit oleh tanda kutip\n",
        "'Hello world'"
      ],
      "metadata": {
        "id": "l-fDf8_xLFCC"
      },
      "execution_count": null,
      "outputs": []
    },
    {
      "cell_type": "code",
      "source": [
        "nama_depan = 'Elon'\n",
        "nama_belakang = 'Musk'\n",
        "\n",
        "nama_depan + ' ' + nama_belakang"
      ],
      "metadata": {
        "colab": {
          "base_uri": "https://localhost:8080/",
          "height": 35
        },
        "id": "Epb5IE2ZL1T4",
        "outputId": "d8706d15-7966-4cca-a813-a487db265201"
      },
      "execution_count": null,
      "outputs": [
        {
          "output_type": "execute_result",
          "data": {
            "text/plain": [
              "'Elon Musk'"
            ],
            "application/vnd.google.colaboratory.intrinsic+json": {
              "type": "string"
            }
          },
          "metadata": {},
          "execution_count": 54
        }
      ]
    },
    {
      "cell_type": "code",
      "source": [
        "'Python' * 10"
      ],
      "metadata": {
        "colab": {
          "base_uri": "https://localhost:8080/",
          "height": 35
        },
        "id": "1xhDDxV9MNEp",
        "outputId": "08c05424-7e7d-485a-d8df-7605d149b19e"
      },
      "execution_count": null,
      "outputs": [
        {
          "output_type": "execute_result",
          "data": {
            "text/plain": [
              "'PythonPythonPythonPythonPythonPythonPythonPythonPythonPython'"
            ],
            "application/vnd.google.colaboratory.intrinsic+json": {
              "type": "string"
            }
          },
          "metadata": {},
          "execution_count": 55
        }
      ]
    },
    {
      "cell_type": "code",
      "source": [
        "'Python'.upper()"
      ],
      "metadata": {
        "colab": {
          "base_uri": "https://localhost:8080/",
          "height": 35
        },
        "id": "vmUWd3P6Mkt_",
        "outputId": "b7f64343-95a7-49e7-d849-9c711f10c56e"
      },
      "execution_count": null,
      "outputs": [
        {
          "output_type": "execute_result",
          "data": {
            "text/plain": [
              "'PYTHON'"
            ],
            "application/vnd.google.colaboratory.intrinsic+json": {
              "type": "string"
            }
          },
          "metadata": {},
          "execution_count": 56
        }
      ]
    },
    {
      "cell_type": "code",
      "source": [
        "'PyThon'.lower()"
      ],
      "metadata": {
        "colab": {
          "base_uri": "https://localhost:8080/",
          "height": 35
        },
        "id": "VrawS_mWMsuI",
        "outputId": "77185c65-4873-4cfe-e2a8-cd8363e7fb1b"
      },
      "execution_count": null,
      "outputs": [
        {
          "output_type": "execute_result",
          "data": {
            "text/plain": [
              "'python'"
            ],
            "application/vnd.google.colaboratory.intrinsic+json": {
              "type": "string"
            }
          },
          "metadata": {},
          "execution_count": 57
        }
      ]
    },
    {
      "cell_type": "code",
      "source": [
        "'PyThon'.swapcase()"
      ],
      "metadata": {
        "colab": {
          "base_uri": "https://localhost:8080/",
          "height": 35
        },
        "id": "5_AwzOJeMwWe",
        "outputId": "b9e10432-7172-4ef0-c074-089064ad1ecb"
      },
      "execution_count": null,
      "outputs": [
        {
          "output_type": "execute_result",
          "data": {
            "text/plain": [
              "'pYtHON'"
            ],
            "application/vnd.google.colaboratory.intrinsic+json": {
              "type": "string"
            }
          },
          "metadata": {},
          "execution_count": 58
        }
      ]
    },
    {
      "cell_type": "code",
      "source": [
        "'Aku suka belajar Python'.count('u')"
      ],
      "metadata": {
        "colab": {
          "base_uri": "https://localhost:8080/"
        },
        "id": "HBFnGtcsMzdg",
        "outputId": "0a3fa11b-1b7f-40f2-c60a-19f6908d00f9"
      },
      "execution_count": null,
      "outputs": [
        {
          "output_type": "execute_result",
          "data": {
            "text/plain": [
              "2"
            ]
          },
          "metadata": {},
          "execution_count": 59
        }
      ]
    },
    {
      "cell_type": "code",
      "source": [
        "'Aku suka belajar Python'.replace('u','i')"
      ],
      "metadata": {
        "colab": {
          "base_uri": "https://localhost:8080/",
          "height": 35
        },
        "id": "KSw4xwk9M39I",
        "outputId": "592e500e-db11-4d59-f305-09ba7ae18757"
      },
      "execution_count": null,
      "outputs": [
        {
          "output_type": "execute_result",
          "data": {
            "text/plain": [
              "'Aki sika belajar Python'"
            ],
            "application/vnd.google.colaboratory.intrinsic+json": {
              "type": "string"
            }
          },
          "metadata": {},
          "execution_count": 60
        }
      ]
    },
    {
      "cell_type": "code",
      "source": [
        "'      Aku suka belajar Python        '.strip()"
      ],
      "metadata": {
        "colab": {
          "base_uri": "https://localhost:8080/",
          "height": 35
        },
        "id": "00XokUFRM_IW",
        "outputId": "a579985b-6aeb-4360-e19e-63162924398e"
      },
      "execution_count": null,
      "outputs": [
        {
          "output_type": "execute_result",
          "data": {
            "text/plain": [
              "'Aku suka belajar Python'"
            ],
            "application/vnd.google.colaboratory.intrinsic+json": {
              "type": "string"
            }
          },
          "metadata": {},
          "execution_count": 62
        }
      ]
    },
    {
      "cell_type": "code",
      "source": [
        "print('Jum\\'at')"
      ],
      "metadata": {
        "id": "WmuyFQd-NIxO",
        "colab": {
          "base_uri": "https://localhost:8080/"
        },
        "outputId": "a8a73cb2-4454-4ea1-b19c-3a6159d77b62"
      },
      "execution_count": 1,
      "outputs": [
        {
          "output_type": "stream",
          "name": "stdout",
          "text": [
            "Jum'at\n"
          ]
        }
      ]
    },
    {
      "cell_type": "code",
      "source": [
        "\"python\".title()"
      ],
      "metadata": {
        "colab": {
          "base_uri": "https://localhost:8080/",
          "height": 36
        },
        "id": "ZCXvVdkNGAzc",
        "outputId": "9b6cb345-0433-493c-bb4d-43e61bee60f5"
      },
      "execution_count": 7,
      "outputs": [
        {
          "output_type": "execute_result",
          "data": {
            "text/plain": [
              "'Python'"
            ],
            "application/vnd.google.colaboratory.intrinsic+json": {
              "type": "string"
            }
          },
          "metadata": {},
          "execution_count": 7
        }
      ]
    },
    {
      "cell_type": "code",
      "source": [
        "import math\n",
        "math.sqrt(4)"
      ],
      "metadata": {
        "colab": {
          "base_uri": "https://localhost:8080/"
        },
        "id": "2f1Ui39LMbD-",
        "outputId": "1a5e3f82-488a-41cf-be46-56342cba2edd"
      },
      "execution_count": 8,
      "outputs": [
        {
          "output_type": "execute_result",
          "data": {
            "text/plain": [
              "2.0"
            ]
          },
          "metadata": {},
          "execution_count": 8
        }
      ]
    },
    {
      "cell_type": "markdown",
      "source": [
        "# Latihan"
      ],
      "metadata": {
        "id": "V6S9Da7zVLK0"
      }
    },
    {
      "cell_type": "code",
      "source": [
        "# bmi\n",
        "\n",
        "weight = int(input(\"Input Weigth (kg): \"))\n",
        "height = int(input(\"Input Height (cm): \"))\n",
        "\n",
        "bmi = ((weight / ((height / 100)**2)))\n",
        "\n",
        "print(f\"BMI Anda: {bmi}\" )\n",
        "if (bmi < 18.5):\n",
        "    print(\"Anda Underweight\")\n",
        "elif (bmi >= 18.5 and bmi < 24.9):\n",
        "    print(\"Anda Healthy\")\n",
        "elif (bmi >= 24.9 and bmi < 29.9):\n",
        "    print(\"Anda Overweight\")\n",
        "else:\n",
        "  print(\"Anda Obesitas\")"
      ],
      "metadata": {
        "colab": {
          "base_uri": "https://localhost:8080/"
        },
        "id": "2Go3_3rJNPX1",
        "outputId": "2dec7f60-90fc-4517-849f-bcae4c6c6ae6"
      },
      "execution_count": 14,
      "outputs": [
        {
          "output_type": "stream",
          "name": "stdout",
          "text": [
            "Input Weigth (kg): 63\n",
            "Input Height (cm): 168\n",
            "BMI Anda: 22.321428571428577\n",
            "Anda Healthy\n"
          ]
        }
      ]
    },
    {
      "cell_type": "code",
      "source": [
        "# buatlah segitiga berikut\n",
        "# *\n",
        "# **\n",
        "# ***\n",
        "# ****\n",
        "# *****\n",
        "\n",
        "for i in range(1, 6):\n",
        "    print('*' * i)"
      ],
      "metadata": {
        "colab": {
          "base_uri": "https://localhost:8080/"
        },
        "id": "GKtyT3AJUGmO",
        "outputId": "a1b2ffa1-2d9a-43ae-8178-b312a5380bd0"
      },
      "execution_count": 128,
      "outputs": [
        {
          "output_type": "stream",
          "name": "stdout",
          "text": [
            "*\n",
            "**\n",
            "***\n",
            "****\n",
            "*****\n"
          ]
        }
      ]
    },
    {
      "cell_type": "markdown",
      "source": [
        "<br>\n",
        "<a href=\"https://www.linkedin.com/in/raihanarique/\"><img src=\"https://img.shields.io/badge/-© 2025 Raihan Ariq Muzakki-417DAC?style=for-the-badge&logoColor=white\"/></a>"
      ],
      "metadata": {
        "id": "3vQubsXy0er3"
      }
    }
  ]
}